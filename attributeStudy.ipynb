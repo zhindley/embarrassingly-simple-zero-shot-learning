{
 "cells": [
  {
   "cell_type": "code",
   "execution_count": 2,
   "metadata": {},
   "outputs": [
    {
     "data": {
      "text/plain": [
       "32.800000000000004"
      ]
     },
     "execution_count": 2,
     "metadata": {},
     "output_type": "execute_result"
    }
   ],
   "source": [
    "import numpy as np\n",
    "import os\n",
    "import scipy.io\n",
    "from sklearn.metrics import classification_report,confusion_matrix\n",
    "\n",
    "'''\n",
    "variable list:\n",
    "    d = dimension of the data\n",
    "    z/z' = number of classes\n",
    "    a = number of attributes\n",
    "    m = number of samples\n",
    "\n",
    "matrices List:\n",
    "    s/s' = signature matrix [0,1] dimensions = axz\n",
    "    X = samples dimensions = dxm\n",
    "    Y = ground truth [-1,1] dimensions = mxz \n",
    "    V = weight matrix dimension = dxa\n",
    "    V+ = weight matrix dimension = axd, matrix to generate samples from attributes\n",
    "'''\n",
    "\n",
    "#Function to run the generation, training, and testing of data\n",
    "def run(d=10,z=20,zPrime=10,a=100,n=50,targetDist = 'equal'):\n",
    "    m = n * z\n",
    "    mPrime = n * zPrime\n",
    "\n",
    "    '''\n",
    "    This is an attempt to follow the procedure outlined in the paper to reproduce\n",
    "    the synthetic data\n",
    "    '''\n",
    "\n",
    "    #generate signatures for training(s) and test(sPrime) class signatures\n",
    "    s = np.random.binomial(size=(a,z),n=1,p=0.5)\n",
    "    sPrime = np.random.binomial(size=(a,zPrime),n=1,p=0.5)\n",
    "    #Create a ground truth, varying target distribution based on input\n",
    "    vPlus = np.random.normal(0,1,(a,d))\n",
    "    if targetDist == 'beta':\n",
    "        vPlusPrime = np.random.beta(2,5,(a,d))\n",
    "    elif targetDist =='normal':\n",
    "        vPlusPrime = np.random.normal(0.5,2,(a,d))\n",
    "    else:\n",
    "        vPlusPrime = vPlus\n",
    "        \n",
    "    \n",
    "    #Each row is now a sample of d attributes\n",
    "    y = np.eye(z)\n",
    "    y[y==0] = -1\n",
    "    y = np.tile(y,(n,1))\n",
    "\n",
    "    #create a zxd matrix (row is a class, col are dimension)\n",
    "    x = np.zeros((0,d))\n",
    "    xPrime = np.zeros((0,d))\n",
    "\n",
    "\n",
    "    #create label vectors\n",
    "    testLabels = []\n",
    "    for i in range(zPrime):\n",
    "        testLabels.append(i)\n",
    "    testLabels = np.tile(testLabels,(n,1))\n",
    "    testLabels = testLabels.flatten()\n",
    "\n",
    "    #create samples\n",
    "    for i in range(n):\n",
    "        #create noise\n",
    "        noise = np.random.normal(0,0.1,(a,z))\n",
    "        noisySig = np.add(s,noise)\n",
    "        #now for the target\n",
    "        noise = np.random.normal(0,0.1,(a,zPrime))\n",
    "        noisySigPrime = np.add(sPrime,noise)\n",
    "        #create the data\n",
    "        x = np.vstack((x,np.matmul(noisySig.T,vPlus)))\n",
    "        xPrime = np.vstack((xPrime,np.matmul(noisySigPrime.T,vPlusPrime)))\n",
    "\n",
    "    #Need to make it the proper dxm, after loop it is mxd\n",
    "    x = x.transpose()\n",
    "    xPrime = xPrime.transpose()\n",
    "\n",
    "\n",
    "    '''\n",
    "    I want to shuffle the data so that the labels are no longer in a \n",
    "    repeating pattern.\n",
    "    '''\n",
    "    #create indexes to shuffle\n",
    "    trainIndex = np.random.permutation(m)\n",
    "    testIndex = np.random.permutation(mPrime)\n",
    "    #shuffle columns in samples\n",
    "    x = x[:,trainIndex]\n",
    "    xPrime = xPrime[:,testIndex]\n",
    "    #shuffle labels\n",
    "    y = y[trainIndex]\n",
    "    testLabels = testLabels[testIndex]\n",
    "    \n",
    "\n",
    "\n",
    "    #This is the function given to find the best Hyperparameters\n",
    "    #alph1 corresponds to gamma, and gamm1 with lambda in the papers closed form\n",
    "    accu = 0.0\n",
    "    alph1 = 4\n",
    "    gamm1 = 1\n",
    "    for alpha in range(-6, 6):\n",
    "        for gamma in range(-6,6):\n",
    "            #One line solution\n",
    "            part_1_test = np.linalg.pinv(np.matmul(x, x.T) + (10**alpha)*np.eye(x.shape[0]))\n",
    "            part_0_test = np.matmul(np.matmul(x,y),s.transpose())\n",
    "            part_2_test = np.linalg.pinv(np.matmul(s, s.transpose()) + (10**gamma)*np.eye(a))\n",
    "\n",
    "            V = np.matmul(np.matmul(part_1_test,part_0_test),part_2_test)\n",
    "            #print(V)\n",
    "            outputs_1 = np.matmul(np.matmul(xPrime.transpose(),V),sPrime)\n",
    "            #print(outputs_1[0])\n",
    "            #print([np.argmax(output) for output in outputs_1])\n",
    "            preds_1 = np.array([np.argmax(output) for output in outputs_1])\n",
    "            #predictions\n",
    "            \n",
    "            cm = confusion_matrix(testLabels, preds_1)\n",
    "            cm = cm.astype('float') / cm.sum(axis=1)[:, np.newaxis]\n",
    "            avg = sum(cm.diagonal())/mPrime\n",
    "            #print(\"The top 1% accuracy is:\", avg*100)\n",
    "\n",
    "            if avg > accu:\n",
    "                accu = avg\n",
    "                alph1 = alpha\n",
    "                gamm1 = gamma\n",
    "\n",
    "    #I am going to use the given closed form solution to get the Matrix v\n",
    "    part_1_test = np.linalg.pinv(np.matmul(x, x.T) + (10**alph1)*np.eye(x.shape[0]))\n",
    "    part_0_test = np.matmul(np.matmul(x,y),s.transpose())\n",
    "    part_2_test = np.linalg.pinv(np.matmul(s, s.transpose()) + (10**gamm1)*np.eye(a))\n",
    "\n",
    "    V = np.matmul(np.matmul(part_1_test,part_0_test),part_2_test)\n",
    "\n",
    "    #Test the values\n",
    "    outputs_1 = np.matmul(np.matmul(xPrime.transpose(),V),sPrime)\n",
    "    #print(outputs_1[0])\n",
    "    #print([np.argmax(output) for output in outputs_1])\n",
    "    preds_1 = np.array([np.argmax(output) for output in outputs_1])\n",
    "    #print(preds_1.shape)\n",
    "\n",
    "    cm = confusion_matrix(testLabels, preds_1)\n",
    "    cm = cm.astype('float') / cm.sum(axis=1)[:, np.newaxis]\n",
    "    avg = sum(cm.diagonal())/ zPrime\n",
    "    #print(\"The top 1% accuracy is:\", avg*100)\n",
    "\n",
    "    return avg *100\n",
    "\n"
   ]
  },
  {
   "cell_type": "code",
   "execution_count": 3,
   "metadata": {},
   "outputs": [
    {
     "name": "stdout",
     "output_type": "stream",
     "text": [
      "The accuracy of shared distributions: 53.330000000000005\n",
      "The accuracy between two normal distributions: 17.380000000000003\n",
      "The accuracy between normal and beta distribution: 14.180000000000001\n"
     ]
    }
   ],
   "source": [
    "#Put in the parameters\n",
    "d = 10\n",
    "z = 50\n",
    "zPrime = 10\n",
    "a = 50\n",
    "n = 50 #number of samples of each class\n",
    "\n",
    "#This to test the models ability to work on different domains\n",
    "accShared = []\n",
    "accNormal = []\n",
    "accBeta = []\n",
    "\n",
    "for i in range(20):\n",
    "    accShared.append(run(d,z,zPrime,a,n,'equal'))\n",
    "    accNormal.append(run(d,z,zPrime,a,n,'normal'))\n",
    "    accBeta.append(run(d,z,zPrime,a,n,'beta'))\n",
    "\n",
    "accShared = np.array(accShared)\n",
    "accNormal = np.array(accNormal)\n",
    "accBeta = np.array(accBeta)\n",
    "\n",
    "print(\"The accuracy of shared distributions:\",np.mean(accShared))\n",
    "print(\"The accuracy between two normal distributions:\",np.mean(accNormal))\n",
    "print(\"The accuracy between normal and beta distribution:\",np.mean(accBeta))\n",
    "\n"
   ]
  },
  {
   "cell_type": "code",
   "execution_count": 4,
   "metadata": {},
   "outputs": [],
   "source": [
    "'''\n",
    "Now I am going to test increasing the number of classes keeping the attributes fixed. \n",
    "The goal is to see how increasing the number of training classes helps the model properly predict Attributes\n",
    "'''\n",
    "d = 10\n",
    "z = 20\n",
    "zPrime = 12\n",
    "a = 65\n",
    "n = 50 #number of samples of each class\n",
    "\n",
    "accuracy = []\n",
    "numClasses = []\n",
    "stdDev = []\n",
    "\n",
    "for i in range(20,100,5):\n",
    "    avg = []\n",
    "    numClasses.append(i)\n",
    "    for j in range(20):\n",
    "        avg.append(run(d,i,zPrime,a,n))\n",
    "    accuracy.append(np.mean(avg))\n",
    "    stdDev.append(np.std(avg))\n",
    "\n",
    "numClasses = np.array(numClasses)\n"
   ]
  },
  {
   "cell_type": "code",
   "execution_count": 5,
   "metadata": {},
   "outputs": [
    {
     "data": {
      "image/png": "[encoded data removed]",
      "text/plain": [
       "<Figure size 640x480 with 1 Axes>"
      ]
     },
     "metadata": {},
     "output_type": "display_data"
    }
   ],
   "source": [
    "import matplotlib.pyplot as plt\n",
    "\n",
    "fit = np.polynomial.polynomial.Polynomial.fit(numClasses,accuracy,5)\n",
    "plot = plt.plot(numClasses,fit(numClasses))\n",
    "#plt.errorbar(numClasses,fit(numClasses),yerr=stdDev,fmt='o')\n",
    "#plt.ylim(0,60)\n",
    "plt.show()"
   ]
  },
  {
   "cell_type": "code",
   "execution_count": 6,
   "metadata": {},
   "outputs": [],
   "source": [
    "#Play with dimension/attributes\n",
    "\n",
    "d = 10\n",
    "z = 20\n",
    "zPrime = 12\n",
    "a = 100\n",
    "n = 50 #number of samples of each class\n",
    "\n",
    "accuracy = []\n",
    "numDimensions = []\n",
    "for i in range(50,150,5):\n",
    "    avg = []\n",
    "    numDimensions.append(i)\n",
    "    for j in range(20):\n",
    "        avg.append(run(i,z,zPrime,a,n))\n",
    "    accuracy.append(np.mean(avg))\n",
    "\n",
    "numDimensions = np.array(numDimensions)"
   ]
  },
  {
   "cell_type": "code",
   "execution_count": 7,
   "metadata": {},
   "outputs": [
    {
     "data": {
      "image/png": "[encoded data removed]",
      "text/plain": [
       "<Figure size 640x480 with 1 Axes>"
      ]
     },
     "metadata": {},
     "output_type": "display_data"
    }
   ],
   "source": [
    "\n",
    "plot = plt.plot(numDimensions,accuracy)\n",
    "plt.show()"
   ]
  }
 ],
 "metadata": {
  "kernelspec": {
   "display_name": ".venv",
   "language": "python",
   "name": "python3"
  },
  "language_info": {
   "codemirror_mode": {
    "name": "ipython",
    "version": 3
   },
   "file_extension": ".py",
   "mimetype": "text/x-python",
   "name": "python",
   "nbconvert_exporter": "python",
   "pygments_lexer": "ipython3",
   "version": "3.10.5"
  },
  "orig_nbformat": 4
 },
 "nbformat": 4,
 "nbformat_minor": 2
}
