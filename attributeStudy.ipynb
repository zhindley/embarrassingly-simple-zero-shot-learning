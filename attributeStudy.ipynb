{
 "cells": [
  {
   "cell_type": "code",
   "execution_count": null,
   "metadata": {},
   "outputs": [],
   "source": [
    "#Create the data\n",
    "'''\n",
    "variable list:\n",
    "    d = dimension of the data\n",
    "    z/z' = number of classes\n",
    "    a = number of attributes\n",
    "    m = number of samples\n",
    "\n",
    "matrices List:\n",
    "    s/s' = signature matrix [0,1] dimensions = axz\n",
    "    X = samples dimensions = dxm\n",
    "    Y = ground truth [-1,1] dimensions = mxz \n",
    "    V = weight matrix dimension = dxa\n",
    "'''"
   ]
  }
 ],
 "metadata": {
  "language_info": {
   "name": "python"
  },
  "orig_nbformat": 4
 },
 "nbformat": 4,
 "nbformat_minor": 2
}
